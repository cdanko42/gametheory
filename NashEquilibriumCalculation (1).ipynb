{
 "cells": [
  {
   "cell_type": "code",
   "execution_count": 2,
   "metadata": {},
   "outputs": [
    {
     "name": "stdin",
     "output_type": "stream",
     "text": [
      "Enter the number of rows for the payoff matrix: 2\n",
      "Enter the number of columns: 3\n"
     ]
    },
    {
     "name": "stdout",
     "output_type": "stream",
     "text": [
      "Enter the entries of player 1's payoff matrix rowwise in a single line (separated by space): \n"
     ]
    },
    {
     "name": "stdin",
     "output_type": "stream",
     "text": [
      " 52 44 44 42 46 39\n",
      "Is the game zero-sum? (Y/N) N\n"
     ]
    },
    {
     "name": "stdout",
     "output_type": "stream",
     "text": [
      "Enter the entries for player 2's payoff matrix rowwise in a single line (separated by space): \n"
     ]
    },
    {
     "name": "stdin",
     "output_type": "stream",
     "text": [
      " 50 44 41 42 49 43\n"
     ]
    },
    {
     "name": "stdout",
     "output_type": "stream",
     "text": [
      "Mixed/dominant strategies are [Player 1, Player 2]:[(array([1., 0.]), array([1., 0., 0.])), (array([0., 1.]), array([0., 1., 0.])), (array([0.53846154, 0.46153846]), array([0.16666667, 0.83333333, 0.        ]))]\n"
     ]
    },
    {
     "ename": "NameError",
     "evalue": "name 'Print' is not defined",
     "output_type": "error",
     "traceback": [
      "\u001b[1;31m---------------------------------------------------------------------------\u001b[0m",
      "\u001b[1;31mNameError\u001b[0m                                 Traceback (most recent call last)",
      "\u001b[1;32m<ipython-input-2-7d16649a3b85>\u001b[0m in \u001b[0;36m<module>\u001b[1;34m\u001b[0m\n\u001b[0;32m     69\u001b[0m         \u001b[0mprint\u001b[0m\u001b[1;33m(\u001b[0m\u001b[1;34m\"Sorry, I haven't programmed how to calculate the expected value of nonzero-sum games yet!\"\u001b[0m\u001b[1;33m)\u001b[0m\u001b[1;33m\u001b[0m\u001b[1;33m\u001b[0m\u001b[0m\n\u001b[0;32m     70\u001b[0m \u001b[1;32melse\u001b[0m\u001b[1;33m:\u001b[0m\u001b[1;33m\u001b[0m\u001b[1;33m\u001b[0m\u001b[0m\n\u001b[1;32m---> 71\u001b[1;33m     \u001b[0mPrint\u001b[0m\u001b[1;33m(\u001b[0m\u001b[1;34m\"Sorry, I haven't programmed how to calculate the expected values of non-n*n games yet!\"\u001b[0m\u001b[1;33m)\u001b[0m\u001b[1;33m\u001b[0m\u001b[1;33m\u001b[0m\u001b[0m\n\u001b[0m\u001b[0;32m     72\u001b[0m \u001b[1;33m\u001b[0m\u001b[0m\n",
      "\u001b[1;31mNameError\u001b[0m: name 'Print' is not defined"
     ]
    }
   ],
   "source": [
    "import nashpy\n",
    "import numpy as np\n",
    "\n",
    "#Format payoff matrix for player 1\n",
    "R = int(input(\"Enter the number of rows for the payoff matrix:\")) \n",
    "C = int(input(\"Enter the number of columns:\")) \n",
    "  \n",
    "card = 0\n",
    "while card != R*C:\n",
    "    #Asks for entries of player 1's payoff matrix\n",
    "    print(\"Enter the entries of player 1's payoff matrix rowwise in a single line (separated by space): \") \n",
    "    # User input of entries in a  \n",
    "    # single line separated by space \n",
    "    entries = list(map(float, input().split())) \n",
    "    card = len(entries)\n",
    "    #Create failsafe in case user doesn't put in the right values\n",
    "    if card != R*C:\n",
    "        print(\"Oops! You entered too many or too few values. Try again.\")\n",
    "    else:\n",
    "        break\n",
    "\n",
    "# Shape the matrix \n",
    "matrix = np.array(entries).reshape(R, C) \n",
    "#Format payoff matrix for player 2\n",
    "#If the game is zero sum, the payoff matrix for player 2 is player 1's negative\n",
    "zsum = input(\"Is the game zero-sum? (Y/N)\")\n",
    "if zsum == \"Y\":\n",
    "    matrix2= -1.*matrix\n",
    "else:\n",
    "    card = 0\n",
    "    while card != R*C:\n",
    "        #Asks for payoff matrix for player 2\n",
    "        print(\"Enter the entries for player 2's payoff matrix rowwise in a single line (separated by space): \") \n",
    "        # User input of entries in a  \n",
    "        # single line separated by space \n",
    "        entries = list(map(float, input().split())) \n",
    "        card = len(entries)\n",
    "        # Shape the matrix \n",
    "        matrix2 = np.array(entries).reshape(R, C)\n",
    "        if card != R*C:\n",
    "            print(\"Oops! You entered too many or too few values. Try again.\")\n",
    "        else:\n",
    "            break\n",
    "\n",
    "#Calculate Nash equilibrium dominant or mixed strategy\n",
    "nash = nashpy.Game(matrix, matrix2)\n",
    "mixed =nash.support_enumeration()\n",
    "print(\"Mixed/dominant strategies are [Player 1, Player 2]:\" + str(list(mixed)))\n",
    "#define function to calculate expected value over iterations\n",
    "def zerosum_value(x):\n",
    "    a = float(np.linalg.det(x))\n",
    "    b = adj(x)\n",
    "    onecolumn=np.ones((C,1))\n",
    "    onerow=np.ones((1,R))\n",
    "    firststp = onerow.dot(b)\n",
    "    secondstp = firststp.dot(onecolumn)\n",
    "    thirdstp = a/ float(secondstp)\n",
    "    return thirdstp\n",
    "#define function to calculate adjugate of a matrix\n",
    "def adj(x):\n",
    "    return np.linalg.inv(matrix).T * np.linalg.det(matrix).transpose()\n",
    "\n",
    "#Calculate expected value for n x n matrices\n",
    "if R ==C:\n",
    "    if zsum== \"Y\":\n",
    "        value = zerosum_value(matrix)\n",
    "        print(value)\n",
    "    else:\n",
    "        print(\"Sorry, I haven't programmed how to calculate the expected value of nonzero-sum games yet!\")\n",
    "else:\n",
    "    print(\"Sorry, I haven't programmed how to calculate the expected values of non-n*n games yet!\")\n",
    "\n"
   ]
  },
  {
   "cell_type": "code",
   "execution_count": 7,
   "metadata": {},
   "outputs": [
    {
     "data": {
      "text/plain": [
       "array([[-1., -0.],\n",
       "       [ 1., -2.]])"
      ]
     },
     "execution_count": 7,
     "metadata": {},
     "output_type": "execute_result"
    }
   ],
   "source": []
  }
 ],
 "metadata": {
  "kernelspec": {
   "display_name": "Python 3",
   "language": "python",
   "name": "python3"
  },
  "language_info": {
   "codemirror_mode": {
    "name": "ipython",
    "version": 3
   },
   "file_extension": ".py",
   "mimetype": "text/x-python",
   "name": "python",
   "nbconvert_exporter": "python",
   "pygments_lexer": "ipython3",
   "version": "3.7.4"
  }
 },
 "nbformat": 4,
 "nbformat_minor": 4
}
