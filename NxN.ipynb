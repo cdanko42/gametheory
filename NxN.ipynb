{
 "cells": [
  {
   "cell_type": "code",
   "execution_count": 7,
   "metadata": {},
   "outputs": [
    {
     "name": "stdin",
     "output_type": "stream",
     "text": [
      "Enter the number of rows for the payoff matrix: 3\n",
      "Enter the number of columns: 3\n"
     ]
    },
    {
     "name": "stdout",
     "output_type": "stream",
     "text": [
      "Enter the entries of Player 1's payoff matrix rowwise in a single line (separated by space): \n"
     ]
    },
    {
     "name": "stdin",
     "output_type": "stream",
     "text": [
      " 8 4 2 6 3 5 3 4 6\n",
      "Is the game zero-sum? (Y/N) N\n"
     ]
    },
    {
     "name": "stdout",
     "output_type": "stream",
     "text": [
      "Enter the entries of Player 2's payoff matrix rowwise in a single line (separated by space): \n"
     ]
    },
    {
     "name": "stdin",
     "output_type": "stream",
     "text": [
      " 4 0 7 5 6 3 9 0 1\n"
     ]
    },
    {
     "name": "stdout",
     "output_type": "stream",
     "text": [
      "Player One's mixed strategy is[0.25, 0.4375, 0.3125]and her expected value is[[4.675]]\n",
      "Player Two's mixed strategy is[0.275, 0.16250000000000003, 0.5625]and his expected value is[[3.1]]\n"
     ]
    }
   ],
   "source": [
    "import numpy as np\n",
    "\n",
    "def payoffmatrix():\n",
    "        global R\n",
    "        global C\n",
    "        R = int(input(\"Enter the number of rows for the payoff matrix:\")) \n",
    "        C = int(input(\"Enter the number of columns:\"))\n",
    "        #Asks for entries of player 1's payoff matrix\n",
    "        print(\"Enter the entries of Player 1's payoff matrix rowwise in a single line (separated by space): \") \n",
    "        # User input of entries in a  \n",
    "        # single line separated by space \n",
    "        #Create failsafe in case user doesn't put in the right values\n",
    "        entries = list(map(float, input().split())) \n",
    "        card = len(entries)\n",
    "        if card != R*C:\n",
    "            print(\"Oops! You entered too many or too few values. Try again.\")\n",
    "            payoffmatrix()\n",
    "        else:\n",
    "            global matrix\n",
    "            matrix = np.array(entries).reshape(R, C)\n",
    "            def askforsecondmatrix():\n",
    "                global zsum\n",
    "                zsum = input(\"Is the game zero-sum? (Y/N)\")\n",
    "                if zsum == \"Y\":\n",
    "                    global matrix2\n",
    "                    matrix2= -1.*matrix\n",
    "                else:\n",
    "                    #Asks for entries of player 2's payoff matrix\n",
    "                    print(\"Enter the entries of Player 2's payoff matrix rowwise in a single line (separated by space): \") \n",
    "                    # User input of entries in a  \n",
    "                    # single line separated by space \n",
    "                    #Create failsafe in case user doesn't put in the right values\n",
    "                    entries = list(map(float, input().split())) \n",
    "                    card = len(entries)\n",
    "                    if card != R*C:\n",
    "                        print(\"Oops! You entered too many or too few values. Try again.\")\n",
    "                        askforsecondmatrix()\n",
    "                    else:\n",
    "                        matrix2 = np.array(entries).reshape(R, C)\n",
    "            askforsecondmatrix()\n",
    "\n",
    "payoffmatrix()\n",
    "    \n",
    "xlist=[]\n",
    "nashlist=[]\n",
    "nashlist2=[]\n",
    "solvelist=[]\n",
    "for i in range(R-1):\n",
    "    xlist.append('x_{}'.format(i))\n",
    "    for j in range(C-1):\n",
    "        nashlist.append(matrix[i,j]-matrix[i+1,j]-matrix[i,R-1]+matrix[i+1,C-1])\n",
    "        nashlist2.append(matrix2[i,j]-matrix2[i+1,j]-matrix2[i,R-1]+matrix2[i+1,C-1])\n",
    "    solvelist.append(matrix[i,R-1]-matrix[i+1,R-1])\n",
    "varmat = np.array(xlist).reshape(R-1,1)\n",
    "nashmat = np.array(nashlist).reshape(R-1, C-1)\n",
    "nashmat2 = np.array(nashlist2).reshape(R-1,C-1)\n",
    "solvecolumn = np.array(solvelist).reshape(R-1, 1)\n",
    "varmat = np.linalg.inv(nashmat).dot(solvelist)\n",
    "varmat2 =  np.linalg.inv(nashmat2).dot(solvelist)\n",
    "strat1 = []\n",
    "strat2 = []\n",
    "c3 = 1\n",
    "c3_2 = 1\n",
    "for i in range (R-1):\n",
    "    strat1.append(abs(varmat[i]))\n",
    "    strat2.append(abs(varmat2[i]))\n",
    "    c3 =c3 - (abs(varmat[i]))\n",
    "    c3_2 = c3_2 - (abs(varmat2[i]))\n",
    "strat1.append(c3)\n",
    "strat2.append(c3_2)\n",
    "stratmat1 = np.array(strat1).reshape(1,C)\n",
    "stratmat2 = np.array(strat2).reshape(1,C)\n",
    "t1 = np.transpose(stratmat1)\n",
    "t2 = np.transpose(stratmat2)\n",
    "firststep = stratmat1.dot(matrix)\n",
    "secondstep = firststep.dot(t2)\n",
    "thirdstep = stratmat2.dot(matrix2)\n",
    "fourthstep= thirdstep.dot(t1)\n",
    "print(\"Player One's mixed strategy is\" + str(strat1) + \"and her expected value is\" + str(secondstep))\n",
    "print(\"Player Two's mixed strategy is\" + str(strat2) + \"and his expected value is\" + str(fourthstep))"
   ]
  },
  {
   "cell_type": "code",
   "execution_count": 4,
   "metadata": {},
   "outputs": [
    {
     "data": {
      "text/plain": [
       "<function ndarray.transpose>"
      ]
     },
     "execution_count": 4,
     "metadata": {},
     "output_type": "execute_result"
    }
   ],
   "source": [
    "t1"
   ]
  }
 ],
 "metadata": {
  "kernelspec": {
   "display_name": "Python 3",
   "language": "python",
   "name": "python3"
  },
  "language_info": {
   "codemirror_mode": {
    "name": "ipython",
    "version": 3
   },
   "file_extension": ".py",
   "mimetype": "text/x-python",
   "name": "python",
   "nbconvert_exporter": "python",
   "pygments_lexer": "ipython3",
   "version": "3.7.4"
  }
 },
 "nbformat": 4,
 "nbformat_minor": 4
}
