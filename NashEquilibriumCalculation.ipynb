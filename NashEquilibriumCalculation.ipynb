{
 "cells": [
  {
   "cell_type": "code",
   "execution_count": 3,
   "metadata": {
    "scrolled": true
   },
   "outputs": [
    {
     "name": "stdin",
     "output_type": "stream",
     "text": [
      "Enter the number of rows for the payoff matrix: 2\n",
      "Enter the number of columns: 2\n"
     ]
    },
    {
     "name": "stdout",
     "output_type": "stream",
     "text": [
      "Enter the entries of Player 1's payoff matrix rowwise in a single line (separated by space): \n"
     ]
    },
    {
     "name": "stdin",
     "output_type": "stream",
     "text": [
      " 5 1 10 2\n",
      "Is the game zero-sum? (Y/N) N\n"
     ]
    },
    {
     "name": "stdout",
     "output_type": "stream",
     "text": [
      "Enter the entries of Player 2's payoff matrix rowwise in a single line (separated by space): \n"
     ]
    },
    {
     "name": "stdin",
     "output_type": "stream",
     "text": [
      " 5 10 1 2\n"
     ]
    },
    {
     "name": "stdout",
     "output_type": "stream",
     "text": [
      "Mixed/dominant strategies are [Player 1, Player 2]:[(array([0., 1.]), array([0., 1.]))]\n",
      "Sorry, I haven't programmed how to calculate the expected value of nonzero-sum games yet!\n"
     ]
    }
   ],
   "source": [
    "import nashpy\n",
    "import numpy as np\n",
    "\n",
    "def payoffmatrix():\n",
    "    R = int(input(\"Enter the number of rows for the payoff matrix:\")) \n",
    "    C = int(input(\"Enter the number of columns:\"))\n",
    "    #Asks for entries of player 1's payoff matrix\n",
    "    print(\"Enter the entries of Player 1's payoff matrix rowwise in a single line (separated by space): \") \n",
    "    # User input of entries in a  \n",
    "    # single line separated by space \n",
    "    #Create failsafe in case user doesn't put in the right values\n",
    "    entries = list(map(float, input().split())) \n",
    "    card = len(entries)\n",
    "    if card != R*C:\n",
    "        print(\"Oops! You entered too many or too few values. Try again.\")\n",
    "        payoffmatrix()\n",
    "    else:\n",
    "        global matrix\n",
    "        matrix = np.array(entries).reshape(R, C)\n",
    "        def askforsecondmatrix():\n",
    "            zsum = input(\"Is the game zero-sum? (Y/N)\")\n",
    "            if zsum == \"Y\":\n",
    "                global matrix2\n",
    "                matrix2= -1.*matrix\n",
    "            else:\n",
    "                #Asks for entries of player 2's payoff matrix\n",
    "                print(\"Enter the entries of Player 2's payoff matrix rowwise in a single line (separated by space): \") \n",
    "                # User input of entries in a  \n",
    "                # single line separated by space \n",
    "                #Create failsafe in case user doesn't put in the right values\n",
    "                entries = list(map(float, input().split())) \n",
    "                card = len(entries)\n",
    "                if card != R*C:\n",
    "                    print(\"Oops! You entered too many or too few values. Try again.\")\n",
    "                    askforsecondmatrix()\n",
    "                else:\n",
    "                    matrix2 = np.array(entries).reshape(R, C)\n",
    "        askforsecondmatrix()\n",
    "        \n",
    "payoffmatrix()\n",
    "\n",
    "#Calculate Nash equilibrium dominant or mixed strategy\n",
    "nash = nashpy.Game(matrix, matrix2)\n",
    "mixed =nash.support_enumeration()\n",
    "print(\"Mixed/dominant strategies are [Player 1, Player 2]:\" + str(list(mixed)))\n",
    "#define function to calculate adjugate of a matrix\n",
    "def adj(x):\n",
    "    return np.linalg.inv(matrix).T * np.linalg.det(matrix).transpose()\n",
    "#define function to calculate expected value over iterations\n",
    "def zerosum_value(x):\n",
    "    a = float(np.linalg.det(x))\n",
    "    b = adj(x)\n",
    "    onecolumn=np.ones((C,1))\n",
    "    onerow=np.ones((1,R))\n",
    "    firststp = onerow.dot(b)\n",
    "    secondstp = firststp.dot(onecolumn)\n",
    "    thirdstp = a/ float(secondstp)\n",
    "    return thirdstp\n",
    "\n",
    "#Calculate expected value for n x n matrices\n",
    "if R ==C:\n",
    "    if zsum== \"Y\":\n",
    "        value = zerosum_value(matrix)\n",
    "        print(value)\n",
    "    else:\n",
    "        print(\"Sorry, I haven't programmed how to calculate the expected value of nonzero-sum games yet!\")\n",
    "else:\n",
    "    print(\"Sorry, I haven't programmed how to calculate the expected values of non-n*n games yet!\")\n",
    "\n"
   ]
  },
  {
   "cell_type": "code",
   "execution_count": null,
   "metadata": {},
   "outputs": [],
   "source": []
  },
  {
   "cell_type": "code",
   "execution_count": null,
   "metadata": {},
   "outputs": [],
   "source": []
  }
 ],
 "metadata": {
  "kernelspec": {
   "display_name": "Python 3",
   "language": "python",
   "name": "python3"
  },
  "language_info": {
   "codemirror_mode": {
    "name": "ipython",
    "version": 3
   },
   "file_extension": ".py",
   "mimetype": "text/x-python",
   "name": "python",
   "nbconvert_exporter": "python",
   "pygments_lexer": "ipython3",
   "version": "3.7.4"
  }
 },
 "nbformat": 4,
 "nbformat_minor": 4
}
